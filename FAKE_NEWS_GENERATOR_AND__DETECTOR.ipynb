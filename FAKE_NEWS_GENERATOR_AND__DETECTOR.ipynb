{
  "cells": [
    {
      "cell_type": "code",
      "source": [
        "!pip install -q transformers torch gradio"
      ],
      "metadata": {
        "id": "vv460MArRUbZ"
      },
      "execution_count": 1,
      "outputs": []
    },
    {
      "cell_type": "markdown",
      "source": [],
      "metadata": {
        "id": "AxWj5BtNRtna"
      }
    },
    {
      "cell_type": "code",
      "source": [
        "# ✅ Imports\n",
        "import torch\n",
        "from transformers import GPT2LMHeadModel, GPT2Tokenizer\n",
        "from transformers import AutoTokenizer, AutoModelForSequenceClassification\n",
        "import gradio as gr\n",
        "\n",
        "# ✅ Check Device\n",
        "device = torch.device(\"cuda\" if torch.cuda.is_available() else \"cpu\")\n",
        "print(\"✅ Using device:\", device)\n",
        "\n",
        "# ✅ Load GPT-2 for Text Generation\n",
        "gpt2_tokenizer = GPT2Tokenizer.from_pretrained(\"gpt2\")\n",
        "gpt2_model = GPT2LMHeadModel.from_pretrained(\"gpt2\").to(device)\n",
        "\n",
        "# ✅ Load BERT for Fake/Real Detection\n",
        "bert_tokenizer = AutoTokenizer.from_pretrained(\"bert-base-uncased\")\n",
        "bert_model = AutoModelForSequenceClassification.from_pretrained(\n",
        "    \"bert-base-uncased\", num_labels=2\n",
        ").to(device)\n",
        "\n",
        "# ✅ Function: Generate Fake News\n",
        "def generate_fake_news(prompt):\n",
        "    inputs = gpt2_tokenizer.encode(prompt, return_tensors=\"pt\").to(device)\n",
        "    outputs = gpt2_model.generate(\n",
        "        inputs,\n",
        "        max_length=200,\n",
        "        num_return_sequences=1,\n",
        "        no_repeat_ngram_size=2,\n",
        "        do_sample=True,\n",
        "        temperature=0.7,\n",
        "        top_k=50,\n",
        "        top_p=0.95,\n",
        "        early_stopping=True\n",
        "    )\n",
        "    generated_text = gpt2_tokenizer.decode(outputs[0], skip_special_tokens=True)\n",
        "    return generated_text.strip()\n",
        "\n",
        "# ✅ Function: Detect Fake or Real News\n",
        "def detect_news(text):\n",
        "    inputs = bert_tokenizer(text, return_tensors=\"pt\", truncation=True, padding=True).to(device)\n",
        "    with torch.no_grad():\n",
        "        outputs = bert_model(**inputs)\n",
        "    logits = outputs.logits\n",
        "    predicted_class = torch.argmax(logits, dim=1).item()\n",
        "    confidence = torch.softmax(logits, dim=1)[0][predicted_class].item()\n",
        "    if predicted_class == 0:\n",
        "        return f\"🟥 **Fake News** \\n\\n🔒 Confidence: {confidence:.2f}\"\n",
        "    else:\n",
        "        return f\"🟩 **Real News** \\n\\n🔒 Confidence: {confidence:.2f}\"\n",
        "\n",
        "# ✅ Gradio UI (Stylish)\n",
        "theme = gr.themes.Soft(\n",
        "    primary_hue=\"red\",\n",
        "    secondary_hue=\"blue\",\n",
        "    neutral_hue=\"slate\"\n",
        ")\n",
        "\n",
        "with gr.Blocks(theme=theme) as demo:\n",
        "    gr.Markdown(\n",
        "        \"\"\"\n",
        "        # 📰 Fake News Generator & Detector\n",
        "        ⚡ Built with **GPT-2 (Generator)** + **BERT (Detector)**\n",
        "        ---\n",
        "        \"\"\"\n",
        "    )\n",
        "\n",
        "    with gr.Tab(\"🛠 Generate Fake News\"):\n",
        "        with gr.Row():\n",
        "            input_text = gr.Textbox(\n",
        "                label=\"✍️ Enter a News Headline or Prompt\",\n",
        "                placeholder=\"e.g. A mysterious object was spotted in the sky...\",\n",
        "                lines=2\n",
        "            )\n",
        "        generate_btn = gr.Button(\"🚀 Generate News\", variant=\"primary\")\n",
        "        output_text = gr.Textbox(label=\"📰 Generated News Article\", lines=8)\n",
        "        generate_btn.click(generate_fake_news, inputs=input_text, outputs=output_text)\n",
        "\n",
        "    with gr.Tab(\"🔍 Detect Fake or Real\"):\n",
        "        with gr.Row():\n",
        "            detect_input = gr.Textbox(\n",
        "                label=\"📥 Enter a News Article or Statement\",\n",
        "                placeholder=\"Paste a paragraph to detect if it's fake or real...\",\n",
        "                lines=5\n",
        "            )\n",
        "        detect_btn = gr.Button(\"🔎 Detect\", variant=\"primary\")\n",
        "        detect_output = gr.Textbox(label=\"📊 Detection Result\", lines=3)\n",
        "        detect_btn.click(detect_news, inputs=detect_input, outputs=detect_output)\n",
        "\n",
        "# ✅ Launch Gradio (Colab-friendly)\n",
        "demo.launch(share=True)\n"
      ],
      "metadata": {
        "id": "_CK-vaP1R3Pv",
        "outputId": "8f15378f-47c7-4bf3-e291-d3c0691e2e8e",
        "colab": {
          "base_uri": "https://localhost:8080/",
          "height": 662
        }
      },
      "execution_count": 3,
      "outputs": [
        {
          "output_type": "stream",
          "name": "stdout",
          "text": [
            "✅ Using device: cpu\n"
          ]
        },
        {
          "output_type": "stream",
          "name": "stderr",
          "text": [
            "Some weights of BertForSequenceClassification were not initialized from the model checkpoint at bert-base-uncased and are newly initialized: ['classifier.bias', 'classifier.weight']\n",
            "You should probably TRAIN this model on a down-stream task to be able to use it for predictions and inference.\n"
          ]
        },
        {
          "output_type": "stream",
          "name": "stdout",
          "text": [
            "Colab notebook detected. To show errors in colab notebook, set debug=True in launch()\n",
            "* Running on public URL: https://3a51dd746c3948031c.gradio.live\n",
            "\n",
            "This share link expires in 1 week. For free permanent hosting and GPU upgrades, run `gradio deploy` from the terminal in the working directory to deploy to Hugging Face Spaces (https://huggingface.co/spaces)\n"
          ]
        },
        {
          "output_type": "display_data",
          "data": {
            "text/plain": [
              "<IPython.core.display.HTML object>"
            ],
            "text/html": [
              "<div><iframe src=\"https://3a51dd746c3948031c.gradio.live\" width=\"100%\" height=\"500\" allow=\"autoplay; camera; microphone; clipboard-read; clipboard-write;\" frameborder=\"0\" allowfullscreen></iframe></div>"
            ]
          },
          "metadata": {}
        },
        {
          "output_type": "execute_result",
          "data": {
            "text/plain": []
          },
          "metadata": {},
          "execution_count": 3
        }
      ]
    }
  ],
  "metadata": {
    "colab": {
      "provenance": []
    },
    "kernelspec": {
      "display_name": "Python 3",
      "name": "python3"
    }
  },
  "nbformat": 4,
  "nbformat_minor": 0
}